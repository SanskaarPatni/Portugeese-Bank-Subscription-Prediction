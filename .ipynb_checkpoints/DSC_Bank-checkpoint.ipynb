{
 "cells": [
  {
   "cell_type": "code",
   "execution_count": 1,
   "metadata": {},
   "outputs": [],
   "source": [
    "import numpy as np\n",
    "import pandas as pd\n",
    "import seaborn as sns\n",
    "import matplotlib.pyplot as plt\n",
    "%matplotlib inline\n",
    "import warnings\n",
    "warnings.filterwarnings('ignore')"
   ]
  },
  {
   "cell_type": "code",
   "execution_count": 2,
   "metadata": {},
   "outputs": [],
   "source": [
    "train_x=pd.read_csv('train.csv')\n",
    "test_x=pd.read_csv('test.csv')\n"
   ]
  },
  {
   "cell_type": "code",
   "execution_count": 3,
   "metadata": {
    "scrolled": true
   },
   "outputs": [],
   "source": [
    "train_y=pd.DataFrame(train_x['y'])\n",
    "test_y=pd.read_csv('sample_submission.csv')\n",
    "test_y=test_y.drop(columns=['id'])\n",
    "train_y.replace(['yes', 'no'], [1,0], inplace  = True)\n",
    "train_x=train_x.drop(columns=['y'])\n",
    "test_y.replace(['yes', 'no'], [1,0], inplace  = True)"
   ]
  },
  {
   "cell_type": "code",
   "execution_count": 4,
   "metadata": {},
   "outputs": [
    {
     "name": "stdout",
     "output_type": "stream",
     "text": [
      "<class 'pandas.core.frame.DataFrame'>\n",
      "RangeIndex: 32978 entries, 0 to 32977\n",
      "Data columns (total 21 columns):\n",
      "id                32978 non-null int64\n",
      "age               32978 non-null int64\n",
      "job               32978 non-null object\n",
      "marital           32978 non-null object\n",
      "education         32978 non-null object\n",
      "default           32978 non-null object\n",
      "housing           32978 non-null object\n",
      "loan              32978 non-null object\n",
      "contact           32978 non-null object\n",
      "month             32978 non-null object\n",
      "day_of_week       32978 non-null object\n",
      "duration          32978 non-null int64\n",
      "campaign          32978 non-null int64\n",
      "pdays             32978 non-null int64\n",
      "previous          32978 non-null int64\n",
      "poutcome          32978 non-null object\n",
      "emp.var.rate      32978 non-null float64\n",
      "cons.price.idx    32978 non-null float64\n",
      "cons.conf.idx     32978 non-null float64\n",
      "euribor3m         32978 non-null float64\n",
      "nr.employed       32978 non-null float64\n",
      "dtypes: float64(5), int64(6), object(10)\n",
      "memory usage: 5.3+ MB\n"
     ]
    }
   ],
   "source": [
    "train_x.info()\n",
    "total=pd.concat([train_x,test_x])"
   ]
  },
  {
   "cell_type": "code",
   "execution_count": 5,
   "metadata": {},
   "outputs": [
    {
     "data": {
      "image/png": "[encoded data removed]",
      "text/plain": [
       "<Figure size 1296x720 with 1 Axes>"
      ]
     },
     "metadata": {},
     "output_type": "display_data"
    }
   ],
   "source": [
    "fig, ax = plt.subplots()\n",
    "fig.set_size_inches(18, 10)\n",
    "sns.countplot(x = 'age', data = train_x)\n",
    "ax.set_xlabel('Age', fontsize=15)\n",
    "ax.set_ylabel('Count', fontsize=15)\n",
    "ax.set_title('Age Count Distribution', fontsize=20)\n",
    "sns.despine()"
   ]
  },
  {
   "cell_type": "code",
   "execution_count": 6,
   "metadata": {},
   "outputs": [
    {
     "name": "stdout",
     "output_type": "stream",
     "text": [
      "Ages above:  69.5 are outliers\n"
     ]
    }
   ],
   "source": [
    "#InterQuartile Rule for Outliers\n",
    "print('Ages above: ', train_x['age'].quantile(q = 0.75) + 1.5*(train_x['age'].quantile(q = 0.75) - train_x['age'].quantile(q = 0.25)), 'are outliers')\n",
    "#print('Ages above: ', train_x['age'].quantile(q = 0.25) -                      1.5*(train_x['age'].quantile(q = 0.75) - train_x['age'].quantile(q = 0.25)), 'are outliers')"
   ]
  },
  {
   "cell_type": "code",
   "execution_count": 7,
   "metadata": {},
   "outputs": [],
   "source": [
    "# train_x = pd.get_dummies(data = train_x, columns = ['job'] , prefix = ['job'] , drop_first = True)\n",
    "\n",
    "# train_x = pd.get_dummies(data = train_x, columns = ['marital'] , prefix = ['marital'] , drop_first = True)\n",
    "\n",
    "# train_x = pd.get_dummies(data = train_x, columns = ['education'], prefix = ['education'], drop_first = True)\n",
    "\n",
    "# train_x = pd.get_dummies(data = train_x, columns = ['default'] , prefix = ['default'] , drop_first = True)\n",
    "\n",
    "# train_x= pd.get_dummies(data = train_x, columns = ['housing'] , prefix = ['housing'] , drop_first = True)\n",
    "\n",
    "# train_x= pd.get_dummies(data = train_x, columns = ['loan'] , prefix = ['loan'] , drop_first = True)\n",
    "\n",
    "\n",
    "total= pd.get_dummies(data = total, columns = ['job'] , prefix = ['job'] , drop_first = True)\n",
    "\n",
    "total = pd.get_dummies(data = total, columns = ['marital'] , prefix = ['marital'] , drop_first = True)\n",
    "\n",
    "total = pd.get_dummies(data = total, columns = ['education'], prefix = ['education'], drop_first = True)\n",
    "\n",
    "total = pd.get_dummies(data = total, columns = ['default'] , prefix = ['default'] , drop_first = True)\n",
    "\n",
    "total= pd.get_dummies(data = total, columns = ['housing'] , prefix = ['housing'] , drop_first = True)\n",
    "\n",
    "total= pd.get_dummies(data = total, columns = ['loan'] , prefix = ['loan'] , drop_first = True)\n"
   ]
  },
  {
   "cell_type": "code",
   "execution_count": 8,
   "metadata": {},
   "outputs": [],
   "source": [
    "total = pd.get_dummies(data = total, prefix = ['contact'] , columns = ['contact'] , drop_first = True)\n",
    "total= pd.get_dummies(data = total, prefix = ['month'] , columns = ['month'] , drop_first = True)\n",
    "total = pd.get_dummies(data = total, prefix = ['day_of_week'], columns = ['day_of_week'], drop_first = True)"
   ]
  },
  {
   "cell_type": "code",
   "execution_count": 9,
   "metadata": {},
   "outputs": [],
   "source": [
    "def duration(data):\n",
    "\n",
    "    data.loc[data['duration'] <= 102, 'duration'] = 1\n",
    "    data.loc[(data['duration'] > 102) & (data['duration'] <= 180)  , 'duration']    = 2\n",
    "    data.loc[(data['duration'] > 180) & (data['duration'] <= 319)  , 'duration']   = 3\n",
    "    data.loc[(data['duration'] > 319) & (data['duration'] <= 644.5), 'duration'] = 4\n",
    "    data.loc[data['duration']  > 644.5, 'duration'] = 5\n",
    "\n",
    "    return data\n",
    "duration(total);"
   ]
  },
  {
   "cell_type": "code",
   "execution_count": 10,
   "metadata": {},
   "outputs": [],
   "source": [
    "def age(dataframe):\n",
    "    dataframe.loc[dataframe['age'] <= 32, 'age'] = 1\n",
    "    dataframe.loc[(dataframe['age'] > 32) & (dataframe['age'] <= 47), 'age'] = 2\n",
    "    dataframe.loc[(dataframe['age'] > 47) & (dataframe['age'] <= 70), 'age'] = 3\n",
    "    dataframe.loc[(dataframe['age'] > 70) & (dataframe['age'] <= 98), 'age'] = 4\n",
    "           \n",
    "    return dataframe\n",
    "\n",
    "age(total);"
   ]
  },
  {
   "cell_type": "code",
   "execution_count": 11,
   "metadata": {},
   "outputs": [],
   "source": [
    "total['poutcome'].replace(['nonexistent', 'failure', 'success'], [1,2,3], inplace  = True)"
   ]
  },
  {
   "cell_type": "code",
   "execution_count": 12,
   "metadata": {},
   "outputs": [
    {
     "name": "stdout",
     "output_type": "stream",
     "text": [
      "<class 'pandas.core.frame.DataFrame'>\n",
      "Int64Index: 41188 entries, 0 to 8209\n",
      "Data columns (total 53 columns):\n",
      "id                               41188 non-null int64\n",
      "age                              41188 non-null int64\n",
      "duration                         41188 non-null int64\n",
      "campaign                         41188 non-null int64\n",
      "pdays                            41188 non-null int64\n",
      "previous                         41188 non-null int64\n",
      "poutcome                         41188 non-null int64\n",
      "emp.var.rate                     41188 non-null float64\n",
      "cons.price.idx                   41188 non-null float64\n",
      "cons.conf.idx                    41188 non-null float64\n",
      "euribor3m                        41188 non-null float64\n",
      "nr.employed                      41188 non-null float64\n",
      "job_blue-collar                  41188 non-null uint8\n",
      "job_entrepreneur                 41188 non-null uint8\n",
      "job_housemaid                    41188 non-null uint8\n",
      "job_management                   41188 non-null uint8\n",
      "job_retired                      41188 non-null uint8\n",
      "job_self-employed                41188 non-null uint8\n",
      "job_services                     41188 non-null uint8\n",
      "job_student                      41188 non-null uint8\n",
      "job_technician                   41188 non-null uint8\n",
      "job_unemployed                   41188 non-null uint8\n",
      "job_unknown                      41188 non-null uint8\n",
      "marital_married                  41188 non-null uint8\n",
      "marital_single                   41188 non-null uint8\n",
      "marital_unknown                  41188 non-null uint8\n",
      "education_basic.6y               41188 non-null uint8\n",
      "education_basic.9y               41188 non-null uint8\n",
      "education_high.school            41188 non-null uint8\n",
      "education_illiterate             41188 non-null uint8\n",
      "education_professional.course    41188 non-null uint8\n",
      "education_university.degree      41188 non-null uint8\n",
      "education_unknown                41188 non-null uint8\n",
      "default_unknown                  41188 non-null uint8\n",
      "default_yes                      41188 non-null uint8\n",
      "housing_unknown                  41188 non-null uint8\n",
      "housing_yes                      41188 non-null uint8\n",
      "loan_unknown                     41188 non-null uint8\n",
      "loan_yes                         41188 non-null uint8\n",
      "contact_telephone                41188 non-null uint8\n",
      "month_aug                        41188 non-null uint8\n",
      "month_dec                        41188 non-null uint8\n",
      "month_jul                        41188 non-null uint8\n",
      "month_jun                        41188 non-null uint8\n",
      "month_mar                        41188 non-null uint8\n",
      "month_may                        41188 non-null uint8\n",
      "month_nov                        41188 non-null uint8\n",
      "month_oct                        41188 non-null uint8\n",
      "month_sep                        41188 non-null uint8\n",
      "day_of_week_mon                  41188 non-null uint8\n",
      "day_of_week_thu                  41188 non-null uint8\n",
      "day_of_week_tue                  41188 non-null uint8\n",
      "day_of_week_wed                  41188 non-null uint8\n",
      "dtypes: float64(5), int64(7), uint8(41)\n",
      "memory usage: 5.7 MB\n",
      "<class 'pandas.core.frame.DataFrame'>\n",
      "Int64Index: 41188 entries, 0 to 8209\n",
      "Data columns (total 53 columns):\n",
      "id                               41188 non-null int64\n",
      "age                              41188 non-null int64\n",
      "duration                         41188 non-null int64\n",
      "campaign                         41188 non-null int64\n",
      "pdays                            41188 non-null int64\n",
      "previous                         41188 non-null int64\n",
      "poutcome                         41188 non-null int64\n",
      "emp.var.rate                     41188 non-null float64\n",
      "cons.price.idx                   41188 non-null float64\n",
      "cons.conf.idx                    41188 non-null float64\n",
      "euribor3m                        41188 non-null float64\n",
      "nr.employed                      41188 non-null float64\n",
      "job_blue-collar                  41188 non-null uint8\n",
      "job_entrepreneur                 41188 non-null uint8\n",
      "job_housemaid                    41188 non-null uint8\n",
      "job_management                   41188 non-null uint8\n",
      "job_retired                      41188 non-null uint8\n",
      "job_self-employed                41188 non-null uint8\n",
      "job_services                     41188 non-null uint8\n",
      "job_student                      41188 non-null uint8\n",
      "job_technician                   41188 non-null uint8\n",
      "job_unemployed                   41188 non-null uint8\n",
      "job_unknown                      41188 non-null uint8\n",
      "marital_married                  41188 non-null uint8\n",
      "marital_single                   41188 non-null uint8\n",
      "marital_unknown                  41188 non-null uint8\n",
      "education_basic.6y               41188 non-null uint8\n",
      "education_basic.9y               41188 non-null uint8\n",
      "education_high.school            41188 non-null uint8\n",
      "education_illiterate             41188 non-null uint8\n",
      "education_professional.course    41188 non-null uint8\n",
      "education_university.degree      41188 non-null uint8\n",
      "education_unknown                41188 non-null uint8\n",
      "default_unknown                  41188 non-null uint8\n",
      "default_yes                      41188 non-null uint8\n",
      "housing_unknown                  41188 non-null uint8\n",
      "housing_yes                      41188 non-null uint8\n",
      "loan_unknown                     41188 non-null uint8\n",
      "loan_yes                         41188 non-null uint8\n",
      "contact_telephone                41188 non-null uint8\n",
      "month_aug                        41188 non-null uint8\n",
      "month_dec                        41188 non-null uint8\n",
      "month_jul                        41188 non-null uint8\n",
      "month_jun                        41188 non-null uint8\n",
      "month_mar                        41188 non-null uint8\n",
      "month_may                        41188 non-null uint8\n",
      "month_nov                        41188 non-null uint8\n",
      "month_oct                        41188 non-null uint8\n",
      "month_sep                        41188 non-null uint8\n",
      "day_of_week_mon                  41188 non-null uint8\n",
      "day_of_week_thu                  41188 non-null uint8\n",
      "day_of_week_tue                  41188 non-null uint8\n",
      "day_of_week_wed                  41188 non-null uint8\n",
      "dtypes: float64(5), int64(7), uint8(41)\n",
      "memory usage: 5.7 MB\n"
     ]
    }
   ],
   "source": [
    "#total['contact'].replace(['cellular','telephone'],[1,0],inplace=True)\n",
    "from sklearn.preprocessing import LabelEncoder\n",
    "labelencoder_X = LabelEncoder()\n",
    "total.info()\n",
    "#otal['month']      = labelencoder_X.fit_transform(total['month']) \n",
    "#otal['day_of_week']  = labelencoder_X.fit_transform(total['day_of_week']) \n",
    "total.info()"
   ]
  },
  {
   "cell_type": "code",
   "execution_count": 13,
   "metadata": {},
   "outputs": [
    {
     "name": "stdout",
     "output_type": "stream",
     "text": [
      "(41188, 53)\n",
      "(32978, 53)\n",
      "(8210, 53)\n",
      "<class 'pandas.core.frame.DataFrame'>\n",
      "Int64Index: 32978 entries, 0 to 32977\n",
      "Data columns (total 53 columns):\n",
      "id                               32978 non-null int64\n",
      "age                              32978 non-null int64\n",
      "duration                         32978 non-null int64\n",
      "campaign                         32978 non-null int64\n",
      "pdays                            32978 non-null int64\n",
      "previous                         32978 non-null int64\n",
      "poutcome                         32978 non-null int64\n",
      "emp.var.rate                     32978 non-null float64\n",
      "cons.price.idx                   32978 non-null float64\n",
      "cons.conf.idx                    32978 non-null float64\n",
      "euribor3m                        32978 non-null float64\n",
      "nr.employed                      32978 non-null float64\n",
      "job_blue-collar                  32978 non-null uint8\n",
      "job_entrepreneur                 32978 non-null uint8\n",
      "job_housemaid                    32978 non-null uint8\n",
      "job_management                   32978 non-null uint8\n",
      "job_retired                      32978 non-null uint8\n",
      "job_self-employed                32978 non-null uint8\n",
      "job_services                     32978 non-null uint8\n",
      "job_student                      32978 non-null uint8\n",
      "job_technician                   32978 non-null uint8\n",
      "job_unemployed                   32978 non-null uint8\n",
      "job_unknown                      32978 non-null uint8\n",
      "marital_married                  32978 non-null uint8\n",
      "marital_single                   32978 non-null uint8\n",
      "marital_unknown                  32978 non-null uint8\n",
      "education_basic.6y               32978 non-null uint8\n",
      "education_basic.9y               32978 non-null uint8\n",
      "education_high.school            32978 non-null uint8\n",
      "education_illiterate             32978 non-null uint8\n",
      "education_professional.course    32978 non-null uint8\n",
      "education_university.degree      32978 non-null uint8\n",
      "education_unknown                32978 non-null uint8\n",
      "default_unknown                  32978 non-null uint8\n",
      "default_yes                      32978 non-null uint8\n",
      "housing_unknown                  32978 non-null uint8\n",
      "housing_yes                      32978 non-null uint8\n",
      "loan_unknown                     32978 non-null uint8\n",
      "loan_yes                         32978 non-null uint8\n",
      "contact_telephone                32978 non-null uint8\n",
      "month_aug                        32978 non-null uint8\n",
      "month_dec                        32978 non-null uint8\n",
      "month_jul                        32978 non-null uint8\n",
      "month_jun                        32978 non-null uint8\n",
      "month_mar                        32978 non-null uint8\n",
      "month_may                        32978 non-null uint8\n",
      "month_nov                        32978 non-null uint8\n",
      "month_oct                        32978 non-null uint8\n",
      "month_sep                        32978 non-null uint8\n",
      "day_of_week_mon                  32978 non-null uint8\n",
      "day_of_week_thu                  32978 non-null uint8\n",
      "day_of_week_tue                  32978 non-null uint8\n",
      "day_of_week_wed                  32978 non-null uint8\n",
      "dtypes: float64(5), int64(7), uint8(41)\n",
      "memory usage: 4.6 MB\n"
     ]
    }
   ],
   "source": [
    "print(total.shape)\n",
    "train_x=total.iloc[0:32978]\n",
    "test_x=total.iloc[32978:]\n",
    "print(train_x.shape)\n",
    "print(test_x.shape)\n",
    "train_x.info()\n",
    "#print(test_x['job'].dtype)\n",
    "#from sklearn.model_selection import train_test_split\n",
    "# X_train, X_test, y_train, y_test = train_test_split(train_x, y, test_size = 0.1942313295, random_state = 101)"
   ]
  },
  {
   "cell_type": "code",
   "execution_count": 14,
   "metadata": {},
   "outputs": [
    {
     "name": "stdout",
     "output_type": "stream",
     "text": [
      "33.11814859926918\n"
     ]
    }
   ],
   "source": [
    "from sklearn.linear_model import LogisticRegression\n",
    "from sklearn.metrics import accuracy_score \n",
    "logmodel = LogisticRegression() \n",
    "logmodel.fit(train_x,train_y)\n",
    "logpred = logmodel.predict(test_x)\n",
    "\n",
    "print(accuracy_score(test_y, logpred)*100)"
   ]
  },
  {
   "cell_type": "code",
   "execution_count": 15,
   "metadata": {},
   "outputs": [
    {
     "name": "stdout",
     "output_type": "stream",
     "text": [
      "32.521315468940315\n"
     ]
    }
   ],
   "source": [
    "from sklearn.neighbors import KNeighborsClassifier\n",
    "knn = KNeighborsClassifier(n_neighbors=19)\n",
    "knn.fit(train_x, train_y)\n",
    "knnpred = knn.predict(test_x)\n",
    "\n",
    "print(accuracy_score(test_y, knnpred)*100)"
   ]
  },
  {
   "cell_type": "code",
   "execution_count": null,
   "metadata": {},
   "outputs": [],
   "source": []
  },
  {
   "cell_type": "code",
   "execution_count": null,
   "metadata": {},
   "outputs": [],
   "source": []
  }
 ],
 "metadata": {
  "kernelspec": {
   "display_name": "Python 3",
   "language": "python",
   "name": "python3"
  },
  "language_info": {
   "codemirror_mode": {
    "name": "ipython",
    "version": 3
   },
   "file_extension": ".py",
   "mimetype": "text/x-python",
   "name": "python",
   "nbconvert_exporter": "python",
   "pygments_lexer": "ipython3",
   "version": "3.6.8"
  }
 },
 "nbformat": 4,
 "nbformat_minor": 2
}
